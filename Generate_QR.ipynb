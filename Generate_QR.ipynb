{
  "nbformat": 4,
  "nbformat_minor": 0,
  "metadata": {
    "colab": {
      "provenance": [],
      "authorship_tag": "ABX9TyNFxZo1F9xoltGxKtM8F1y6",
      "include_colab_link": true
    },
    "kernelspec": {
      "name": "python3",
      "display_name": "Python 3"
    },
    "language_info": {
      "name": "python"
    }
  },
  "cells": [
    {
      "cell_type": "markdown",
      "metadata": {
        "id": "view-in-github",
        "colab_type": "text"
      },
      "source": [
        "<a href=\"https://colab.research.google.com/github/BricoBC/generate_qr/blob/main/Generate_QR.ipynb\" target=\"_parent\"><img src=\"https://colab.research.google.com/assets/colab-badge.svg\" alt=\"Open In Colab\"/></a>"
      ]
    },
    {
      "cell_type": "markdown",
      "source": [
        "El siguiente script nos permite hacer un código qr exportandolo como imagen para poder tener una fácil lectura."
      ],
      "metadata": {
        "id": "qv5kJzKhnFHy"
      }
    },
    {
      "cell_type": "code",
      "execution_count": null,
      "metadata": {
        "colab": {
          "base_uri": "https://localhost:8080/"
        },
        "id": "2MLD5vEzkC7r",
        "outputId": "55b77f60-7e5c-4147-e670-1252bf4a1fb2"
      },
      "outputs": [
        {
          "output_type": "stream",
          "name": "stdout",
          "text": [
            "Looking in indexes: https://pypi.org/simple, https://us-python.pkg.dev/colab-wheels/public/simple/\n",
            "Requirement already satisfied: pyqrcode in /usr/local/lib/python3.8/dist-packages (1.2.1)\n",
            "Looking in indexes: https://pypi.org/simple, https://us-python.pkg.dev/colab-wheels/public/simple/\n",
            "Requirement already satisfied: pypng in /usr/local/lib/python3.8/dist-packages (0.20220715.0)\n"
          ]
        }
      ],
      "source": [
        "!pip install pyqrcode\n",
        "!pip install pypng\n",
        "import pyqrcode\n",
        "import png\n",
        "from PIL import Image\n",
        "link = input(\"Ingresa el url para hacer un código Qr: \")\n",
        "name_image = input(\"¿Cuál es el nombre de la imagen generada? \")\n",
        "qr_code = pyqrcode.create(link)\n",
        "qr_code.png(f\"{name_image}.png\", scale = 5)\n",
        "Image.open(f\"{name_image}.png\")"
      ]
    }
  ]
}